{
 "cells": [
  {
   "cell_type": "code",
   "execution_count": 1,
   "metadata": {
    "id": "_BWEP0qab046"
   },
   "outputs": [],
   "source": [
    "import pandas as pd\n",
    "import numpy as np"
   ]
  },
  {
   "cell_type": "code",
   "execution_count": 2,
   "metadata": {
    "id": "6jW2xV1e2iQx"
   },
   "outputs": [],
   "source": [
    "from google.colab import drive"
   ]
  },
  {
   "cell_type": "code",
   "execution_count": 3,
   "metadata": {
    "colab": {
     "base_uri": "https://localhost:8080/"
    },
    "id": "wh9xkaw_2ei0",
    "outputId": "b39221fe-38e7-4afb-8d7b-36c81fa49c43"
   },
   "outputs": [
    {
     "name": "stdout",
     "output_type": "stream",
     "text": [
      "Mounted at X_ray_data\n"
     ]
    }
   ],
   "source": [
    "drive.mount('X_ray_data')"
   ]
  },
  {
   "cell_type": "code",
   "execution_count": 4,
   "metadata": {
    "id": "wH_PYwA3d1O9"
   },
   "outputs": [],
   "source": [
    "# rm -r sample_data"
   ]
  },
  {
   "cell_type": "code",
   "execution_count": 5,
   "metadata": {
    "colab": {
     "base_uri": "https://localhost:8080/"
    },
    "id": "QTtudFCl9vB6",
    "outputId": "331a2e9c-3c95-47b1-9d98-e58b4e7c19af"
   },
   "outputs": [
    {
     "name": "stdout",
     "output_type": "stream",
     "text": [
      "total 20\n",
      "drwxr-xr-x 1 root root 4096 Sep 14 17:46 .\n",
      "drwxr-xr-x 1 root root 4096 Sep 14 17:45 ..\n",
      "drwxr-xr-x 4 root root 4096 Sep  1 19:26 .config\n",
      "drwxr-xr-x 1 root root 4096 Sep  1 19:26 sample_data\n",
      "drwx------ 5 root root 4096 Sep 14 17:46 X_ray_data\n"
     ]
    }
   ],
   "source": [
    "!ls -la"
   ]
  },
  {
   "cell_type": "code",
   "execution_count": 6,
   "metadata": {
    "id": "bqBAwog_dshT"
   },
   "outputs": [],
   "source": [
    "# !ls -la"
   ]
  },
  {
   "cell_type": "code",
   "execution_count": 7,
   "metadata": {
    "id": "YqklD_IXc9MW"
   },
   "outputs": [],
   "source": [
    "# !unzip Dataset_4_classe_second_approach.zip\n",
    "# !unzip /content/X_ray_data/MyDrive/X-ray_data/All_data_4_classes.zip"
   ]
  },
  {
   "cell_type": "code",
   "execution_count": 8,
   "metadata": {
    "id": "7eQ5jUcfc448"
   },
   "outputs": [],
   "source": [
    "import pandas as pd\n",
    "import os\n",
    "import shutil\n",
    "import sys\n",
    "import warnings\n",
    "warnings.filterwarnings('ignore')\n",
    "from collections import Counter\n",
    "import random\n",
    "\n",
    "import numpy as np\n",
    "import matplotlib.pyplot as plt\n",
    "# import tensorflow as tf\n",
    "from tensorflow import keras\n",
    "import tensorflow\n",
    "\n",
    "from tensorflow.keras.callbacks import ModelCheckpoint\n",
    "from tensorflow.keras.layers import *\n",
    "from tensorflow.keras.models import *\n",
    "from tensorflow.keras.preprocessing import image\n",
    "from tensorflow.keras.preprocessing.image import ImageDataGenerator, load_img, img_to_array"
   ]
  },
  {
   "cell_type": "code",
   "execution_count": 9,
   "metadata": {
    "id": "TIYyy8CWrflB"
   },
   "outputs": [],
   "source": [
    "path_data = '/content/X_ray_data/MyDrive/X-ray_data/Data_augmented_4_classes_train_test_val'"
   ]
  },
  {
   "cell_type": "code",
   "execution_count": 10,
   "metadata": {
    "colab": {
     "base_uri": "https://localhost:8080/"
    },
    "id": "SL5TepQxdI2A",
    "outputId": "b0d9c279-8485-4f0b-c17f-dfa4c3af582a"
   },
   "outputs": [
    {
     "name": "stdout",
     "output_type": "stream",
     "text": [
      "Train_NORMAL =  497\n",
      "Train_Pneumocystis =  488\n",
      "Train_Streptococcus =  475\n",
      "Train_Covid =  465\n"
     ]
    }
   ],
   "source": [
    "Train_NORMAL = os.listdir(path_data+'/Train/NORMAL/')\n",
    "print('Train_NORMAL = ', len(Train_NORMAL))\n",
    "\n",
    "Train_Pneumocystis = os.listdir(path_data+'/Train/Pneumocystis/')\n",
    "print('Train_Pneumocystis = ', len(Train_Pneumocystis))\n",
    "\n",
    "Train_Streptococcus = os.listdir(path_data+'/Train/Streptococcus/')\n",
    "print('Train_Streptococcus = ', len(Train_Streptococcus))\n",
    "\n",
    "Train_Covid = os.listdir(path_data+'/Train/COVID/')\n",
    "print('Train_Covid = ', len(Train_Covid))"
   ]
  },
  {
   "cell_type": "code",
   "execution_count": 11,
   "metadata": {
    "colab": {
     "base_uri": "https://localhost:8080/"
    },
    "id": "7P7ORlAKdI4g",
    "outputId": "b49edc88-fdae-47c0-8f07-fb27e2719d08"
   },
   "outputs": [
    {
     "name": "stdout",
     "output_type": "stream",
     "text": [
      "Val_NORMAL =  138\n",
      "Val_Pneumocystis =  129\n",
      "Val_Streptococcus =  128\n",
      "Val_Covid =  131\n"
     ]
    }
   ],
   "source": [
    "Val_NORMAL = os.listdir(path_data+'/val/NORMAL/')\n",
    "print('Val_NORMAL = ', len(Val_NORMAL))\n",
    "\n",
    "Val_Pneumocystis = os.listdir(path_data+'/val/Pneumocystis/')\n",
    "print('Val_Pneumocystis = ', len(Val_Pneumocystis))\n",
    "\n",
    "Val_Streptococcus = os.listdir(path_data+'/val/Streptococcus/')\n",
    "print('Val_Streptococcus = ', len(Val_Streptococcus))\n",
    "\n",
    "Val_Covid = os.listdir(path_data+'/val/COVID/')\n",
    "print('Val_Covid = ', len(Val_Covid))"
   ]
  },
  {
   "cell_type": "code",
   "execution_count": 12,
   "metadata": {
    "colab": {
     "base_uri": "https://localhost:8080/"
    },
    "id": "a48Qv4ItdI7I",
    "outputId": "c96db066-4c74-4d77-ec88-42be824482b9"
   },
   "outputs": [
    {
     "name": "stdout",
     "output_type": "stream",
     "text": [
      "Images_names \n",
      "  augmented_normal_0_4710.jpeg \n",
      " augmented_covid_0_9378.jpeg \n",
      " augmented_Pneumocystis_0_9383.jpeg \n",
      " augmented_Streptococcus_0_2470.jpeg\n"
     ]
    }
   ],
   "source": [
    "print('Images_names \\n ', \n",
    "      Train_NORMAL[0], '\\n' ,\n",
    "      Train_Covid[0], '\\n' ,\n",
    "      Train_Pneumocystis[0], '\\n' , \n",
    "      Train_Streptococcus[1])"
   ]
  },
  {
   "cell_type": "code",
   "execution_count": 13,
   "metadata": {
    "colab": {
     "base_uri": "https://localhost:8080/",
     "height": 256
    },
    "id": "EBbqYGI0dI9O",
    "outputId": "5f26a6ce-9a34-4d46-c4d6-6a3194abf591"
   },
   "outputs": [
    {
     "data": {
      "image/png": "[encoded data removed]",
      "text/plain": [
       "<Figure size 1224x720 with 4 Axes>"
      ]
     },
     "metadata": {
      "needs_background": "light"
     },
     "output_type": "display_data"
    }
   ],
   "source": [
    "# ref https://www.kaggle.com/feyzazkefe/pneumonia-detection-using-cnn-89-42-acc\n",
    "\n",
    "img_name = Train_NORMAL[0]\n",
    "img_normal = load_img(path_data+'/Train/NORMAL/' + img_name)\n",
    "\n",
    "img_name_1 = Train_Covid[0]\n",
    "img_Covid = load_img(path_data+'/Train/COVID/' + img_name_1)\n",
    "\n",
    "img_name_2 = Train_Pneumocystis[0]\n",
    "img_Pneumocystis = load_img(path_data+'/Train/Pneumocystis/' + img_name_2)\n",
    "\n",
    "img_name_3 = Train_Streptococcus[1]\n",
    "img_Streptococcus = load_img(path_data+'/Train/Streptococcus/' + img_name_3)\n",
    "\n",
    "\n",
    "\n",
    "fig, axs = plt.subplots(1,4,figsize=(17,10))\n",
    "axs[0].imshow(img_normal)\n",
    "axs[0].set_title(\"NORMAL\")\n",
    "\n",
    "axs[1].imshow(img_Covid)\n",
    "axs[1].set_title(\"Covid\");\n",
    "\n",
    "\n",
    "axs[2].imshow(img_Pneumocystis)\n",
    "axs[2].set_title(\"Pneumocystis\")\n",
    "\n",
    "axs[3].imshow(img_Streptococcus)\n",
    "axs[3].set_title(\"Streptococcus\");\n",
    "\n",
    "\n",
    "# plt.savefig(\"../Assets/plot_01_assets_1_4classes_second_app.png\")"
   ]
  },
  {
   "cell_type": "code",
   "execution_count": 14,
   "metadata": {
    "id": "uSiVZVkmdI_n"
   },
   "outputs": [],
   "source": [
    "model = Sequential()\n",
    "activ = 'relu'\n",
    "\n",
    "model.add(Conv2D(32, kernel_size=(3,3),\n",
    "                 activation=activ,\n",
    "                 input_shape=(224,224,3)))\n",
    "model.add(Conv2D(64, kernel_size=(3,3),\n",
    "                 activation=activ))\n",
    "model.add(MaxPooling2D(pool_size=(2,2)))\n",
    "model.add(Dropout(0.25))\n",
    "\n",
    "\n",
    "model.add(Conv2D(128, kernel_size=(3,3),\n",
    "                 activation=activ))\n",
    "model.add(MaxPooling2D(pool_size=(2,2)))\n",
    "model.add(Dropout(0.25))\n",
    "\n",
    "# model.add(Conv2D(128, kernel_size=(3,3),\n",
    "#                  activation=activ))\n",
    "# model.add(MaxPooling2D(pool_size=(2,2)))\n",
    "# model.add(Dropout(0.25))\n",
    "\n",
    "\n",
    "# model.add(BatchNormalization())\n",
    "# model.add(Dropout(0.25))\n",
    "\n",
    "# model.add(Conv2D(64, kernel_size=(3,3),\n",
    "#                  activation=activ))\n",
    "# model.add(BatchNormalization())\n",
    "# model.add(MaxPooling2D(pool_size=(2,2)))\n",
    "# model.add(Dropout(0.25))\n",
    "\n",
    "\n",
    "\n",
    "# model.add(Conv2D(128, kernel_size=(3,3),\n",
    "#                  activation=activ))\n",
    "# model.add(BatchNormalization())\n",
    "# model.add(MaxPooling2D(pool_size=(2,2)))\n",
    "# model.add(Dropout(0.25))\n",
    "\n",
    "\n",
    "\n",
    "model.add(Flatten())\n",
    "model.add(Dense(64, activation=activ))\n",
    "# model.add(Dropout(0.25))\n",
    "model.add(Dense(4, activation='softmax'))\n"
   ]
  },
  {
   "cell_type": "code",
   "execution_count": 15,
   "metadata": {
    "id": "lHEzjwvwdJBc"
   },
   "outputs": [],
   "source": [
    "mtr_list = ['accuracy']"
   ]
  },
  {
   "cell_type": "code",
   "execution_count": 16,
   "metadata": {
    "id": "jVBz2JWlUf3m"
   },
   "outputs": [],
   "source": [
    "# opt = keras.optimizers.RMSprop(\n",
    "#       learning_rate=0.001,\n",
    "#       rho=0.9,\n",
    "#       momentum=0.0,\n",
    "#       epsilon=1e-07,\n",
    "#       centered=False,\n",
    "#       name=\"RMSprop\")"
   ]
  },
  {
   "cell_type": "code",
   "execution_count": 17,
   "metadata": {
    "colab": {
     "base_uri": "https://localhost:8080/"
    },
    "id": "dA3ABqVadJDh",
    "outputId": "dd504ae3-d3eb-42aa-937a-55dccb96eeb0"
   },
   "outputs": [
    {
     "name": "stdout",
     "output_type": "stream",
     "text": [
      "Model: \"sequential\"\n",
      "_________________________________________________________________\n",
      "Layer (type)                 Output Shape              Param #   \n",
      "=================================================================\n",
      "conv2d (Conv2D)              (None, 222, 222, 32)      896       \n",
      "_________________________________________________________________\n",
      "conv2d_1 (Conv2D)            (None, 220, 220, 64)      18496     \n",
      "_________________________________________________________________\n",
      "max_pooling2d (MaxPooling2D) (None, 110, 110, 64)      0         \n",
      "_________________________________________________________________\n",
      "dropout (Dropout)            (None, 110, 110, 64)      0         \n",
      "_________________________________________________________________\n",
      "conv2d_2 (Conv2D)            (None, 108, 108, 128)     73856     \n",
      "_________________________________________________________________\n",
      "max_pooling2d_1 (MaxPooling2 (None, 54, 54, 128)       0         \n",
      "_________________________________________________________________\n",
      "dropout_1 (Dropout)          (None, 54, 54, 128)       0         \n",
      "_________________________________________________________________\n",
      "flatten (Flatten)            (None, 373248)            0         \n",
      "_________________________________________________________________\n",
      "dense (Dense)                (None, 64)                23887936  \n",
      "_________________________________________________________________\n",
      "dense_1 (Dense)              (None, 4)                 260       \n",
      "=================================================================\n",
      "Total params: 23,981,444\n",
      "Trainable params: 23,981,444\n",
      "Non-trainable params: 0\n",
      "_________________________________________________________________\n"
     ]
    }
   ],
   "source": [
    "# model.compile(loss=keras.losses.categorical_crossentropy,\n",
    "#               optimizer=opt, \n",
    "#               metrics=mtr_list)\n",
    "\n",
    "model.compile(\n",
    "    optimizer=keras.optimizers.Adam(1e-3),\n",
    "    loss=\"categorical_crossentropy\", #binary_crossentropy\n",
    "    metrics=[\"accuracy\"],\n",
    ")\n",
    "\n",
    "model.summary()"
   ]
  },
  {
   "cell_type": "markdown",
   "metadata": {
    "id": "CbAy3twzs68M"
   },
   "source": [
    "Data was augmented before. Therefore I just apply rescaling function."
   ]
  },
  {
   "cell_type": "code",
   "execution_count": 18,
   "metadata": {
    "id": "o2ReTpYCdJGd"
   },
   "outputs": [],
   "source": [
    "# train_datagen = image.ImageDataGenerator(\n",
    "#                 featurewise_center=False, samplewise_center=False,\n",
    "#                 featurewise_std_normalization=False, samplewise_std_normalization=False,\n",
    "#                 zca_whitening=False, zca_epsilon=1e-06, rotation_range=0, width_shift_range=0.0,\n",
    "#                 height_shift_range=0.0, brightness_range=None, shear_range=0.2, zoom_range=0.2,\n",
    "#                 channel_shift_range=0.0, fill_mode='nearest', cval=0.0,\n",
    "#                 horizontal_flip=True, vertical_flip=False, rescale=1./255,\n",
    "#                 preprocessing_function=None, data_format=None, validation_split=0.0, dtype=None)"
   ]
  },
  {
   "cell_type": "code",
   "execution_count": 19,
   "metadata": {
    "id": "gM2zQG6X3jWH"
   },
   "outputs": [],
   "source": [
    "train_datagen = image.ImageDataGenerator(rescale=1./255)"
   ]
  },
  {
   "cell_type": "code",
   "execution_count": 20,
   "metadata": {
    "id": "P5cHeCMzhs_j"
   },
   "outputs": [],
   "source": [
    "val_dataset = image.ImageDataGenerator(rescale=1./255)"
   ]
  },
  {
   "cell_type": "code",
   "execution_count": 21,
   "metadata": {
    "colab": {
     "base_uri": "https://localhost:8080/"
    },
    "id": "JoJM0FSQhtDr",
    "outputId": "67acab09-b50e-44d5-ffed-3053e29156ff"
   },
   "outputs": [
    {
     "name": "stdout",
     "output_type": "stream",
     "text": [
      "Found 1925 images belonging to 4 classes.\n"
     ]
    }
   ],
   "source": [
    "train_generator = train_datagen.flow_from_directory(\n",
    "                    directory=path_data+'/Train/',\n",
    "                    target_size=(224,224),\n",
    "                    color_mode=\"rgb\",\n",
    "                    classes=None,\n",
    "                    class_mode=\"categorical\",\n",
    "                    batch_size=32,\n",
    "                    shuffle=True,\n",
    "                    seed=1234,\n",
    "                    save_to_dir=None,\n",
    "                    save_prefix=\"\",\n",
    "                    save_format=\"png\",\n",
    "                    follow_links=False,\n",
    "                    subset=None,\n",
    "                    interpolation=\"nearest\")"
   ]
  },
  {
   "cell_type": "code",
   "execution_count": 22,
   "metadata": {
    "colab": {
     "base_uri": "https://localhost:8080/"
    },
    "id": "jSip49S6htHi",
    "outputId": "76ff5c66-fafb-4136-ef40-ff67828d8d94"
   },
   "outputs": [
    {
     "data": {
      "text/plain": [
       "{'COVID': 0, 'NORMAL': 1, 'Pneumocystis': 2, 'Streptococcus': 3}"
      ]
     },
     "execution_count": 22,
     "metadata": {},
     "output_type": "execute_result"
    }
   ],
   "source": [
    "train_generator.class_indices"
   ]
  },
  {
   "cell_type": "code",
   "execution_count": 23,
   "metadata": {
    "colab": {
     "base_uri": "https://localhost:8080/"
    },
    "id": "d1SoSW5MhtOH",
    "outputId": "21b827b5-8baf-4562-f075-03fef602d854"
   },
   "outputs": [
    {
     "name": "stdout",
     "output_type": "stream",
     "text": [
      "Found 526 images belonging to 4 classes.\n"
     ]
    }
   ],
   "source": [
    "validation_generator = val_dataset.flow_from_directory(\n",
    "                    directory=path_data+'/val/',\n",
    "                    target_size=(224,224),\n",
    "                    color_mode=\"rgb\",\n",
    "                    classes=None,\n",
    "                    class_mode=\"categorical\",\n",
    "                    batch_size=32,\n",
    "                    shuffle=True,\n",
    "                    seed=1234,\n",
    "                    save_to_dir=None,\n",
    "                    save_prefix=\"\",\n",
    "                    save_format=\"png\",\n",
    "                    follow_links=False,\n",
    "                    subset=None,\n",
    "                    interpolation=\"nearest\")"
   ]
  },
  {
   "cell_type": "code",
   "execution_count": 24,
   "metadata": {
    "colab": {
     "base_uri": "https://localhost:8080/"
    },
    "id": "XmjZ8hZfhtUf",
    "outputId": "28543c87-808c-4db1-f41b-ba503c2b4f26"
   },
   "outputs": [
    {
     "data": {
      "text/plain": [
       "1    0.258182\n",
       "2    0.253506\n",
       "3    0.246753\n",
       "0    0.241558\n",
       "Name: 0, dtype: float64"
      ]
     },
     "execution_count": 24,
     "metadata": {},
     "output_type": "execute_result"
    }
   ],
   "source": [
    "classes = pd.DataFrame(train_generator.classes)\n",
    "classes[0].value_counts(normalize=True)"
   ]
  },
  {
   "cell_type": "code",
   "execution_count": 25,
   "metadata": {
    "colab": {
     "base_uri": "https://localhost:8080/"
    },
    "id": "GOIFkqDXhtXb",
    "outputId": "62afe209-b915-4b43-cc88-7521f1185ef5"
   },
   "outputs": [
    {
     "name": "stdout",
     "output_type": "stream",
     "text": [
      "WARNING:tensorflow:`period` argument is deprecated. Please use `save_freq` to specify the frequency in number of batches seen.\n"
     ]
    }
   ],
   "source": [
    "save_filepath = \"model_epoch_{epoch:02d}_loss_{loss:.2f}_acc_{accuracy:.2f}_val_acc_{val_accuracy:.2f}_.h5\"\n",
    "checkpoint = ModelCheckpoint(save_filepath, \n",
    "                             monitor='val_accuracy', \n",
    "                             verbose=1,\n",
    "                             save_best_only=True, \n",
    "                             mode='max', \n",
    "                             period=1)"
   ]
  },
  {
   "cell_type": "markdown",
   "metadata": {
    "id": "VswZUR0kP2oo"
   },
   "source": [
    "Check out the GPU type."
   ]
  },
  {
   "cell_type": "code",
   "execution_count": 26,
   "metadata": {
    "colab": {
     "base_uri": "https://localhost:8080/"
    },
    "id": "8M7M3W6sP2Ls",
    "outputId": "b5c5543f-9451-4b35-f561-0bd218447952"
   },
   "outputs": [
    {
     "name": "stdout",
     "output_type": "stream",
     "text": [
      "Tue Sep 14 17:46:37 2021       \n",
      "+-----------------------------------------------------------------------------+\n",
      "| NVIDIA-SMI 470.63.01    Driver Version: 460.32.03    CUDA Version: 11.2     |\n",
      "|-------------------------------+----------------------+----------------------+\n",
      "| GPU  Name        Persistence-M| Bus-Id        Disp.A | Volatile Uncorr. ECC |\n",
      "| Fan  Temp  Perf  Pwr:Usage/Cap|         Memory-Usage | GPU-Util  Compute M. |\n",
      "|                               |                      |               MIG M. |\n",
      "|===============================+======================+======================|\n",
      "|   0  Tesla T4            Off  | 00000000:00:04.0 Off |                    0 |\n",
      "| N/A   42C    P0    25W /  70W |    734MiB / 15109MiB |      0%      Default |\n",
      "|                               |                      |                  N/A |\n",
      "+-------------------------------+----------------------+----------------------+\n",
      "                                                                               \n",
      "+-----------------------------------------------------------------------------+\n",
      "| Processes:                                                                  |\n",
      "|  GPU   GI   CI        PID   Type   Process name                  GPU Memory |\n",
      "|        ID   ID                                                   Usage      |\n",
      "|=============================================================================|\n",
      "|  No running processes found                                                 |\n",
      "+-----------------------------------------------------------------------------+\n"
     ]
    }
   ],
   "source": [
    "gpu_info = !nvidia-smi\n",
    "gpu_info = '\\n'.join(gpu_info)\n",
    "if gpu_info.find('failed') >= 0:\n",
    "  print('Not connected to a GPU')\n",
    "else:\n",
    "  print(gpu_info)"
   ]
  },
  {
   "cell_type": "code",
   "execution_count": 27,
   "metadata": {
    "colab": {
     "base_uri": "https://localhost:8080/"
    },
    "id": "KI6dIIqliGO4",
    "outputId": "9cd52912-0bb3-44d5-86df-93e336567e38"
   },
   "outputs": [
    {
     "name": "stdout",
     "output_type": "stream",
     "text": [
      "Epoch 1/100\n",
      "15/15 [==============================] - 252s 16s/step - loss: 7.5090 - accuracy: 0.2715 - val_loss: 1.3862 - val_accuracy: 0.2812\n",
      "\n",
      "Epoch 00001: val_accuracy improved from -inf to 0.28125, saving model to model_epoch_01_loss_7.51_acc_0.27_val_acc_0.28_.h5\n",
      "Epoch 2/100\n",
      "15/15 [==============================] - 180s 12s/step - loss: 1.3845 - accuracy: 0.2870 - val_loss: 1.3866 - val_accuracy: 0.2344\n",
      "\n",
      "Epoch 00002: val_accuracy did not improve from 0.28125\n",
      "Epoch 3/100\n",
      "15/15 [==============================] - 151s 10s/step - loss: 1.3779 - accuracy: 0.3021 - val_loss: 1.3617 - val_accuracy: 0.4375\n",
      "\n",
      "Epoch 00003: val_accuracy improved from 0.28125 to 0.43750, saving model to model_epoch_03_loss_1.38_acc_0.30_val_acc_0.44_.h5\n",
      "Epoch 4/100\n",
      "15/15 [==============================] - 111s 7s/step - loss: 1.2883 - accuracy: 0.4062 - val_loss: 1.3110 - val_accuracy: 0.3125\n",
      "\n",
      "Epoch 00004: val_accuracy did not improve from 0.43750\n",
      "Epoch 5/100\n",
      "15/15 [==============================] - 91s 6s/step - loss: 1.1562 - accuracy: 0.4708 - val_loss: 1.1105 - val_accuracy: 0.5781\n",
      "\n",
      "Epoch 00005: val_accuracy improved from 0.43750 to 0.57812, saving model to model_epoch_05_loss_1.16_acc_0.47_val_acc_0.58_.h5\n",
      "Epoch 6/100\n",
      "15/15 [==============================] - 82s 6s/step - loss: 1.1527 - accuracy: 0.4708 - val_loss: 1.0848 - val_accuracy: 0.6406\n",
      "\n",
      "Epoch 00006: val_accuracy improved from 0.57812 to 0.64062, saving model to model_epoch_06_loss_1.15_acc_0.47_val_acc_0.64_.h5\n",
      "Epoch 7/100\n",
      "15/15 [==============================] - 71s 5s/step - loss: 1.0524 - accuracy: 0.5813 - val_loss: 0.9844 - val_accuracy: 0.6562\n",
      "\n",
      "Epoch 00007: val_accuracy improved from 0.64062 to 0.65625, saving model to model_epoch_07_loss_1.05_acc_0.58_val_acc_0.66_.h5\n",
      "Epoch 8/100\n",
      "15/15 [==============================] - 46s 3s/step - loss: 1.0113 - accuracy: 0.5500 - val_loss: 1.0560 - val_accuracy: 0.5625\n",
      "\n",
      "Epoch 00008: val_accuracy did not improve from 0.65625\n",
      "Epoch 9/100\n",
      "15/15 [==============================] - 44s 3s/step - loss: 0.8811 - accuracy: 0.6271 - val_loss: 1.2195 - val_accuracy: 0.5312\n",
      "\n",
      "Epoch 00009: val_accuracy did not improve from 0.65625\n",
      "Epoch 10/100\n",
      "15/15 [==============================] - 45s 3s/step - loss: 0.7698 - accuracy: 0.6771 - val_loss: 0.6738 - val_accuracy: 0.7656\n",
      "\n",
      "Epoch 00010: val_accuracy improved from 0.65625 to 0.76562, saving model to model_epoch_10_loss_0.77_acc_0.68_val_acc_0.77_.h5\n",
      "Epoch 11/100\n",
      "15/15 [==============================] - 36s 2s/step - loss: 0.6805 - accuracy: 0.7042 - val_loss: 0.9146 - val_accuracy: 0.6094\n",
      "\n",
      "Epoch 00011: val_accuracy did not improve from 0.76562\n",
      "Epoch 12/100\n",
      "15/15 [==============================] - 28s 2s/step - loss: 0.7497 - accuracy: 0.7042 - val_loss: 0.7235 - val_accuracy: 0.7500\n",
      "\n",
      "Epoch 00012: val_accuracy did not improve from 0.76562\n",
      "Epoch 13/100\n",
      "15/15 [==============================] - 22s 1s/step - loss: 0.6478 - accuracy: 0.7375 - val_loss: 0.8062 - val_accuracy: 0.6406\n",
      "\n",
      "Epoch 00013: val_accuracy did not improve from 0.76562\n",
      "Epoch 14/100\n",
      "15/15 [==============================] - 23s 2s/step - loss: 0.5589 - accuracy: 0.7854 - val_loss: 0.7356 - val_accuracy: 0.7031\n",
      "\n",
      "Epoch 00014: val_accuracy did not improve from 0.76562\n",
      "Epoch 15/100\n",
      "15/15 [==============================] - 22s 1s/step - loss: 0.5988 - accuracy: 0.7625 - val_loss: 0.7752 - val_accuracy: 0.7188\n",
      "\n",
      "Epoch 00015: val_accuracy did not improve from 0.76562\n",
      "Epoch 16/100\n",
      "15/15 [==============================] - 19s 1s/step - loss: 0.5475 - accuracy: 0.7958 - val_loss: 0.7127 - val_accuracy: 0.7500\n",
      "\n",
      "Epoch 00016: val_accuracy did not improve from 0.76562\n",
      "Epoch 17/100\n",
      "15/15 [==============================] - 21s 1s/step - loss: 0.6305 - accuracy: 0.7396 - val_loss: 0.9077 - val_accuracy: 0.6719\n",
      "\n",
      "Epoch 00017: val_accuracy did not improve from 0.76562\n",
      "Epoch 18/100\n",
      "15/15 [==============================] - 20s 1s/step - loss: 0.5461 - accuracy: 0.7917 - val_loss: 0.6577 - val_accuracy: 0.7500\n",
      "\n",
      "Epoch 00018: val_accuracy did not improve from 0.76562\n",
      "Epoch 19/100\n",
      "15/15 [==============================] - 22s 2s/step - loss: 0.5292 - accuracy: 0.8104 - val_loss: 0.8157 - val_accuracy: 0.7344\n",
      "\n",
      "Epoch 00019: val_accuracy did not improve from 0.76562\n",
      "Epoch 20/100\n",
      "15/15 [==============================] - 19s 1s/step - loss: 0.4342 - accuracy: 0.8250 - val_loss: 0.6408 - val_accuracy: 0.7969\n",
      "\n",
      "Epoch 00020: val_accuracy improved from 0.76562 to 0.79688, saving model to model_epoch_20_loss_0.43_acc_0.82_val_acc_0.80_.h5\n",
      "Epoch 21/100\n",
      "15/15 [==============================] - 19s 1s/step - loss: 0.3971 - accuracy: 0.8271 - val_loss: 0.4842 - val_accuracy: 0.8594\n",
      "\n",
      "Epoch 00021: val_accuracy improved from 0.79688 to 0.85938, saving model to model_epoch_21_loss_0.40_acc_0.83_val_acc_0.86_.h5\n",
      "Epoch 22/100\n",
      "15/15 [==============================] - 17s 1s/step - loss: 0.4229 - accuracy: 0.8477 - val_loss: 0.6899 - val_accuracy: 0.7500\n",
      "\n",
      "Epoch 00022: val_accuracy did not improve from 0.85938\n",
      "Epoch 23/100\n",
      "15/15 [==============================] - 19s 1s/step - loss: 0.3910 - accuracy: 0.8521 - val_loss: 0.7182 - val_accuracy: 0.7656\n",
      "\n",
      "Epoch 00023: val_accuracy did not improve from 0.85938\n",
      "Epoch 24/100\n",
      "15/15 [==============================] - 17s 1s/step - loss: 0.3751 - accuracy: 0.8631 - val_loss: 1.3065 - val_accuracy: 0.6875\n",
      "\n",
      "Epoch 00024: val_accuracy did not improve from 0.85938\n",
      "Epoch 25/100\n",
      "15/15 [==============================] - 18s 1s/step - loss: 0.3515 - accuracy: 0.8896 - val_loss: 0.7898 - val_accuracy: 0.7188\n",
      "\n",
      "Epoch 00025: val_accuracy did not improve from 0.85938\n",
      "Epoch 26/100\n",
      "15/15 [==============================] - 18s 1s/step - loss: 0.2908 - accuracy: 0.8875 - val_loss: 0.7239 - val_accuracy: 0.7656\n",
      "\n",
      "Epoch 00026: val_accuracy did not improve from 0.85938\n",
      "Epoch 27/100\n",
      "15/15 [==============================] - 17s 1s/step - loss: 0.2611 - accuracy: 0.9007 - val_loss: 0.6044 - val_accuracy: 0.8438\n",
      "\n",
      "Epoch 00027: val_accuracy did not improve from 0.85938\n",
      "Epoch 28/100\n",
      "15/15 [==============================] - 18s 1s/step - loss: 0.2550 - accuracy: 0.9229 - val_loss: 0.5416 - val_accuracy: 0.8594\n",
      "\n",
      "Epoch 00028: val_accuracy did not improve from 0.85938\n",
      "Epoch 29/100\n",
      "15/15 [==============================] - 18s 1s/step - loss: 0.2401 - accuracy: 0.9312 - val_loss: 0.6669 - val_accuracy: 0.8594\n",
      "\n",
      "Epoch 00029: val_accuracy did not improve from 0.85938\n",
      "Epoch 30/100\n",
      "15/15 [==============================] - 17s 1s/step - loss: 0.1728 - accuracy: 0.9354 - val_loss: 0.2881 - val_accuracy: 0.8906\n",
      "\n",
      "Epoch 00030: val_accuracy improved from 0.85938 to 0.89062, saving model to model_epoch_30_loss_0.17_acc_0.94_val_acc_0.89_.h5\n",
      "Epoch 31/100\n",
      "15/15 [==============================] - 19s 1s/step - loss: 0.1791 - accuracy: 0.9354 - val_loss: 0.6054 - val_accuracy: 0.8594\n",
      "\n",
      "Epoch 00031: val_accuracy did not improve from 0.89062\n",
      "Epoch 32/100\n",
      "15/15 [==============================] - 16s 1s/step - loss: 0.1470 - accuracy: 0.9514 - val_loss: 0.4431 - val_accuracy: 0.8594\n",
      "\n",
      "Epoch 00032: val_accuracy did not improve from 0.89062\n",
      "Epoch 33/100\n",
      "15/15 [==============================] - 18s 1s/step - loss: 0.1535 - accuracy: 0.9354 - val_loss: 0.5494 - val_accuracy: 0.8438\n",
      "\n",
      "Epoch 00033: val_accuracy did not improve from 0.89062\n",
      "Epoch 34/100\n",
      "15/15 [==============================] - 18s 1s/step - loss: 0.1615 - accuracy: 0.9500 - val_loss: 0.6072 - val_accuracy: 0.8125\n",
      "\n",
      "Epoch 00034: val_accuracy did not improve from 0.89062\n",
      "Epoch 35/100\n",
      "15/15 [==============================] - 18s 1s/step - loss: 0.1081 - accuracy: 0.9542 - val_loss: 0.7154 - val_accuracy: 0.8281\n",
      "\n",
      "Epoch 00035: val_accuracy did not improve from 0.89062\n",
      "Epoch 36/100\n",
      "15/15 [==============================] - 18s 1s/step - loss: 0.0969 - accuracy: 0.9667 - val_loss: 0.8448 - val_accuracy: 0.7969\n",
      "\n",
      "Epoch 00036: val_accuracy did not improve from 0.89062\n",
      "Epoch 37/100\n",
      "15/15 [==============================] - 17s 1s/step - loss: 0.1376 - accuracy: 0.9448 - val_loss: 1.2624 - val_accuracy: 0.7812\n",
      "\n",
      "Epoch 00037: val_accuracy did not improve from 0.89062\n",
      "Epoch 38/100\n",
      "15/15 [==============================] - 17s 1s/step - loss: 0.1053 - accuracy: 0.9729 - val_loss: 1.1712 - val_accuracy: 0.7969\n",
      "\n",
      "Epoch 00038: val_accuracy did not improve from 0.89062\n",
      "Epoch 39/100\n",
      "15/15 [==============================] - 16s 1s/step - loss: 0.0990 - accuracy: 0.9669 - val_loss: 0.7963 - val_accuracy: 0.8125\n",
      "\n",
      "Epoch 00039: val_accuracy did not improve from 0.89062\n",
      "Epoch 40/100\n",
      "15/15 [==============================] - 17s 1s/step - loss: 0.1292 - accuracy: 0.9514 - val_loss: 0.5592 - val_accuracy: 0.8438\n",
      "\n",
      "Epoch 00040: val_accuracy did not improve from 0.89062\n",
      "Epoch 41/100\n",
      "15/15 [==============================] - 17s 1s/step - loss: 0.0907 - accuracy: 0.9750 - val_loss: 0.7656 - val_accuracy: 0.7656\n",
      "\n",
      "Epoch 00041: val_accuracy did not improve from 0.89062\n",
      "Epoch 42/100\n",
      "15/15 [==============================] - 18s 1s/step - loss: 0.0899 - accuracy: 0.9625 - val_loss: 1.2858 - val_accuracy: 0.7500\n",
      "\n",
      "Epoch 00042: val_accuracy did not improve from 0.89062\n",
      "Epoch 43/100\n",
      "15/15 [==============================] - 18s 1s/step - loss: 0.0792 - accuracy: 0.9771 - val_loss: 1.0905 - val_accuracy: 0.7500\n",
      "\n",
      "Epoch 00043: val_accuracy did not improve from 0.89062\n",
      "Epoch 44/100\n",
      "15/15 [==============================] - 17s 1s/step - loss: 0.0553 - accuracy: 0.9833 - val_loss: 0.9460 - val_accuracy: 0.7969\n",
      "\n",
      "Epoch 00044: val_accuracy did not improve from 0.89062\n",
      "Epoch 45/100\n",
      "15/15 [==============================] - 19s 1s/step - loss: 0.0672 - accuracy: 0.9750 - val_loss: 0.8957 - val_accuracy: 0.8438\n",
      "\n",
      "Epoch 00045: val_accuracy did not improve from 0.89062\n",
      "Epoch 46/100\n",
      "15/15 [==============================] - 17s 1s/step - loss: 0.0518 - accuracy: 0.9854 - val_loss: 0.7825 - val_accuracy: 0.8438\n",
      "\n",
      "Epoch 00046: val_accuracy did not improve from 0.89062\n",
      "Epoch 47/100\n",
      "15/15 [==============================] - 18s 1s/step - loss: 0.0437 - accuracy: 0.9833 - val_loss: 0.7653 - val_accuracy: 0.8438\n",
      "\n",
      "Epoch 00047: val_accuracy did not improve from 0.89062\n",
      "Epoch 48/100\n",
      "15/15 [==============================] - 17s 1s/step - loss: 0.0765 - accuracy: 0.9688 - val_loss: 0.9194 - val_accuracy: 0.7656\n",
      "\n",
      "Epoch 00048: val_accuracy did not improve from 0.89062\n",
      "Epoch 49/100\n",
      "15/15 [==============================] - 16s 1s/step - loss: 0.0513 - accuracy: 0.9845 - val_loss: 1.6027 - val_accuracy: 0.7969\n",
      "\n",
      "Epoch 00049: val_accuracy did not improve from 0.89062\n",
      "Epoch 50/100\n",
      "15/15 [==============================] - 18s 1s/step - loss: 0.0331 - accuracy: 0.9956 - val_loss: 1.6530 - val_accuracy: 0.7656\n",
      "\n",
      "Epoch 00050: val_accuracy did not improve from 0.89062\n",
      "Epoch 51/100\n",
      "15/15 [==============================] - 17s 1s/step - loss: 0.0473 - accuracy: 0.9868 - val_loss: 1.0801 - val_accuracy: 0.8594\n",
      "\n",
      "Epoch 00051: val_accuracy did not improve from 0.89062\n",
      "Epoch 52/100\n",
      "15/15 [==============================] - 17s 1s/step - loss: 0.0592 - accuracy: 0.9792 - val_loss: 0.6161 - val_accuracy: 0.9062\n",
      "\n",
      "Epoch 00052: val_accuracy improved from 0.89062 to 0.90625, saving model to model_epoch_52_loss_0.06_acc_0.98_val_acc_0.91_.h5\n",
      "Epoch 53/100\n",
      "15/15 [==============================] - 18s 1s/step - loss: 0.0654 - accuracy: 0.9812 - val_loss: 0.8750 - val_accuracy: 0.8750\n",
      "\n",
      "Epoch 00053: val_accuracy did not improve from 0.90625\n",
      "Epoch 54/100\n",
      "15/15 [==============================] - 17s 1s/step - loss: 0.0662 - accuracy: 0.9735 - val_loss: 1.6374 - val_accuracy: 0.7188\n",
      "\n",
      "Epoch 00054: val_accuracy did not improve from 0.90625\n",
      "Epoch 55/100\n",
      "15/15 [==============================] - 19s 1s/step - loss: 0.0512 - accuracy: 0.9812 - val_loss: 0.4960 - val_accuracy: 0.8750\n",
      "\n",
      "Epoch 00055: val_accuracy did not improve from 0.90625\n",
      "Epoch 56/100\n",
      "15/15 [==============================] - 18s 1s/step - loss: 0.0527 - accuracy: 0.9917 - val_loss: 1.4770 - val_accuracy: 0.7969\n",
      "\n",
      "Epoch 00056: val_accuracy did not improve from 0.90625\n",
      "Epoch 57/100\n",
      "15/15 [==============================] - 17s 1s/step - loss: 0.0410 - accuracy: 0.9917 - val_loss: 1.0651 - val_accuracy: 0.8281\n",
      "\n",
      "Epoch 00057: val_accuracy did not improve from 0.90625\n",
      "Epoch 58/100\n",
      "15/15 [==============================] - 17s 1s/step - loss: 0.0764 - accuracy: 0.9792 - val_loss: 0.9260 - val_accuracy: 0.7969\n",
      "\n",
      "Epoch 00058: val_accuracy did not improve from 0.90625\n",
      "Epoch 59/100\n",
      "15/15 [==============================] - 17s 1s/step - loss: 0.0278 - accuracy: 0.9917 - val_loss: 1.3126 - val_accuracy: 0.8594\n",
      "\n",
      "Epoch 00059: val_accuracy did not improve from 0.90625\n",
      "Epoch 60/100\n",
      "15/15 [==============================] - 17s 1s/step - loss: 0.0198 - accuracy: 0.9934 - val_loss: 0.8351 - val_accuracy: 0.8594\n",
      "\n",
      "Epoch 00060: val_accuracy did not improve from 0.90625\n",
      "Epoch 61/100\n",
      "15/15 [==============================] - 17s 1s/step - loss: 0.0465 - accuracy: 0.9875 - val_loss: 1.3765 - val_accuracy: 0.8125\n",
      "\n",
      "Epoch 00061: val_accuracy did not improve from 0.90625\n",
      "Epoch 62/100\n",
      "15/15 [==============================] - 17s 1s/step - loss: 0.0451 - accuracy: 0.9812 - val_loss: 1.3973 - val_accuracy: 0.8125\n",
      "\n",
      "Epoch 00062: val_accuracy did not improve from 0.90625\n",
      "Epoch 63/100\n",
      "15/15 [==============================] - 18s 1s/step - loss: 0.0294 - accuracy: 0.9912 - val_loss: 1.9588 - val_accuracy: 0.7969\n",
      "\n",
      "Epoch 00063: val_accuracy did not improve from 0.90625\n",
      "Epoch 64/100\n",
      "15/15 [==============================] - 19s 1s/step - loss: 0.0174 - accuracy: 0.9917 - val_loss: 0.9146 - val_accuracy: 0.8906\n",
      "\n",
      "Epoch 00064: val_accuracy did not improve from 0.90625\n",
      "Epoch 65/100\n",
      "15/15 [==============================] - 19s 1s/step - loss: 0.0334 - accuracy: 0.9917 - val_loss: 1.7945 - val_accuracy: 0.7656\n",
      "\n",
      "Epoch 00065: val_accuracy did not improve from 0.90625\n",
      "Epoch 66/100\n",
      "15/15 [==============================] - 16s 1s/step - loss: 0.0294 - accuracy: 0.9912 - val_loss: 1.3142 - val_accuracy: 0.8594\n",
      "\n",
      "Epoch 00066: val_accuracy did not improve from 0.90625\n",
      "Epoch 67/100\n",
      "15/15 [==============================] - 18s 1s/step - loss: 0.0503 - accuracy: 0.9833 - val_loss: 1.2384 - val_accuracy: 0.7656\n",
      "\n",
      "Epoch 00067: val_accuracy did not improve from 0.90625\n",
      "Epoch 68/100\n",
      "15/15 [==============================] - 17s 1s/step - loss: 0.0448 - accuracy: 0.9875 - val_loss: 1.1087 - val_accuracy: 0.7969\n",
      "\n",
      "Epoch 00068: val_accuracy did not improve from 0.90625\n",
      "Epoch 69/100\n",
      "15/15 [==============================] - 16s 1s/step - loss: 0.0403 - accuracy: 0.9912 - val_loss: 1.3467 - val_accuracy: 0.8125\n",
      "\n",
      "Epoch 00069: val_accuracy did not improve from 0.90625\n",
      "Epoch 70/100\n",
      "15/15 [==============================] - 18s 1s/step - loss: 0.0236 - accuracy: 0.9896 - val_loss: 2.1252 - val_accuracy: 0.7188\n",
      "\n",
      "Epoch 00070: val_accuracy did not improve from 0.90625\n",
      "Epoch 71/100\n",
      "15/15 [==============================] - 17s 1s/step - loss: 0.0120 - accuracy: 0.9956 - val_loss: 0.5766 - val_accuracy: 0.9062\n",
      "\n",
      "Epoch 00071: val_accuracy did not improve from 0.90625\n",
      "Epoch 72/100\n",
      "15/15 [==============================] - 18s 1s/step - loss: 0.0325 - accuracy: 0.9958 - val_loss: 1.8600 - val_accuracy: 0.7969\n",
      "\n",
      "Epoch 00072: val_accuracy did not improve from 0.90625\n",
      "Epoch 73/100\n",
      "15/15 [==============================] - 16s 1s/step - loss: 0.0172 - accuracy: 0.9978 - val_loss: 1.6878 - val_accuracy: 0.7656\n",
      "\n",
      "Epoch 00073: val_accuracy did not improve from 0.90625\n",
      "Epoch 74/100\n",
      "15/15 [==============================] - 18s 1s/step - loss: 0.0140 - accuracy: 0.9979 - val_loss: 0.8106 - val_accuracy: 0.7969\n",
      "\n",
      "Epoch 00074: val_accuracy did not improve from 0.90625\n",
      "Epoch 75/100\n",
      "15/15 [==============================] - 17s 1s/step - loss: 0.0079 - accuracy: 1.0000 - val_loss: 1.7082 - val_accuracy: 0.7812\n",
      "\n",
      "Epoch 00075: val_accuracy did not improve from 0.90625\n",
      "Epoch 76/100\n",
      "15/15 [==============================] - 18s 1s/step - loss: 0.0094 - accuracy: 0.9979 - val_loss: 0.7139 - val_accuracy: 0.8594\n",
      "\n",
      "Epoch 00076: val_accuracy did not improve from 0.90625\n",
      "Epoch 77/100\n",
      "15/15 [==============================] - 17s 1s/step - loss: 0.0061 - accuracy: 1.0000 - val_loss: 1.6478 - val_accuracy: 0.8125\n",
      "\n",
      "Epoch 00077: val_accuracy did not improve from 0.90625\n",
      "Epoch 78/100\n",
      "15/15 [==============================] - 18s 1s/step - loss: 0.0108 - accuracy: 0.9979 - val_loss: 2.2954 - val_accuracy: 0.7500\n",
      "\n",
      "Epoch 00078: val_accuracy did not improve from 0.90625\n",
      "Epoch 79/100\n",
      "15/15 [==============================] - 17s 1s/step - loss: 0.0077 - accuracy: 0.9978 - val_loss: 2.6272 - val_accuracy: 0.7656\n",
      "\n",
      "Epoch 00079: val_accuracy did not improve from 0.90625\n",
      "Epoch 80/100\n",
      "15/15 [==============================] - 18s 1s/step - loss: 0.0201 - accuracy: 0.9958 - val_loss: 0.4943 - val_accuracy: 0.8438\n",
      "\n",
      "Epoch 00080: val_accuracy did not improve from 0.90625\n",
      "Epoch 81/100\n",
      "15/15 [==============================] - 17s 1s/step - loss: 0.0043 - accuracy: 1.0000 - val_loss: 1.5369 - val_accuracy: 0.7969\n",
      "\n",
      "Epoch 00081: val_accuracy did not improve from 0.90625\n",
      "Epoch 82/100\n",
      "15/15 [==============================] - 17s 1s/step - loss: 0.0084 - accuracy: 0.9958 - val_loss: 1.2076 - val_accuracy: 0.8125\n",
      "\n",
      "Epoch 00082: val_accuracy did not improve from 0.90625\n",
      "Epoch 83/100\n",
      "15/15 [==============================] - 18s 1s/step - loss: 0.0469 - accuracy: 0.9890 - val_loss: 0.6175 - val_accuracy: 0.8438\n",
      "\n",
      "Epoch 00083: val_accuracy did not improve from 0.90625\n",
      "Epoch 84/100\n",
      "15/15 [==============================] - 17s 1s/step - loss: 0.0068 - accuracy: 1.0000 - val_loss: 1.2022 - val_accuracy: 0.8906\n",
      "\n",
      "Epoch 00084: val_accuracy did not improve from 0.90625\n",
      "Epoch 85/100\n",
      "15/15 [==============================] - 18s 1s/step - loss: 0.0079 - accuracy: 0.9979 - val_loss: 0.7408 - val_accuracy: 0.8438\n",
      "\n",
      "Epoch 00085: val_accuracy did not improve from 0.90625\n",
      "Epoch 86/100\n",
      "15/15 [==============================] - 18s 1s/step - loss: 0.0066 - accuracy: 0.9979 - val_loss: 1.2679 - val_accuracy: 0.9062\n",
      "\n",
      "Epoch 00086: val_accuracy did not improve from 0.90625\n",
      "Epoch 87/100\n",
      "15/15 [==============================] - 18s 1s/step - loss: 0.0067 - accuracy: 0.9979 - val_loss: 2.1138 - val_accuracy: 0.7812\n",
      "\n",
      "Epoch 00087: val_accuracy did not improve from 0.90625\n",
      "Epoch 88/100\n",
      "15/15 [==============================] - 19s 1s/step - loss: 0.0122 - accuracy: 0.9937 - val_loss: 0.9963 - val_accuracy: 0.8438\n",
      "\n",
      "Epoch 00088: val_accuracy did not improve from 0.90625\n",
      "Epoch 89/100\n",
      "15/15 [==============================] - 18s 1s/step - loss: 0.0203 - accuracy: 0.9937 - val_loss: 1.9016 - val_accuracy: 0.8125\n",
      "\n",
      "Epoch 00089: val_accuracy did not improve from 0.90625\n",
      "Epoch 90/100\n",
      "15/15 [==============================] - 16s 1s/step - loss: 0.0103 - accuracy: 0.9978 - val_loss: 0.4791 - val_accuracy: 0.8750\n",
      "\n",
      "Epoch 00090: val_accuracy did not improve from 0.90625\n",
      "Epoch 91/100\n",
      "15/15 [==============================] - 18s 1s/step - loss: 0.0179 - accuracy: 0.9958 - val_loss: 1.1932 - val_accuracy: 0.8281\n",
      "\n",
      "Epoch 00091: val_accuracy did not improve from 0.90625\n",
      "Epoch 92/100\n",
      "15/15 [==============================] - 18s 1s/step - loss: 0.0153 - accuracy: 0.9912 - val_loss: 2.8279 - val_accuracy: 0.7969\n",
      "\n",
      "Epoch 00092: val_accuracy did not improve from 0.90625\n",
      "Epoch 93/100\n",
      "15/15 [==============================] - 18s 1s/step - loss: 0.0032 - accuracy: 1.0000 - val_loss: 1.5641 - val_accuracy: 0.7969\n",
      "\n",
      "Epoch 00093: val_accuracy did not improve from 0.90625\n",
      "Epoch 94/100\n",
      "15/15 [==============================] - 17s 1s/step - loss: 0.0030 - accuracy: 1.0000 - val_loss: 1.3098 - val_accuracy: 0.8750\n",
      "\n",
      "Epoch 00094: val_accuracy did not improve from 0.90625\n",
      "Epoch 95/100\n",
      "15/15 [==============================] - 18s 1s/step - loss: 0.0171 - accuracy: 0.9958 - val_loss: 1.8059 - val_accuracy: 0.7812\n",
      "\n",
      "Epoch 00095: val_accuracy did not improve from 0.90625\n",
      "Epoch 96/100\n",
      "15/15 [==============================] - 18s 1s/step - loss: 0.0092 - accuracy: 0.9958 - val_loss: 1.0579 - val_accuracy: 0.8594\n",
      "\n",
      "Epoch 00096: val_accuracy did not improve from 0.90625\n",
      "Epoch 97/100\n",
      "15/15 [==============================] - 17s 1s/step - loss: 0.0183 - accuracy: 0.9937 - val_loss: 1.6902 - val_accuracy: 0.7969\n",
      "\n",
      "Epoch 00097: val_accuracy did not improve from 0.90625\n",
      "Epoch 98/100\n",
      "15/15 [==============================] - 18s 1s/step - loss: 0.0160 - accuracy: 0.9917 - val_loss: 1.3597 - val_accuracy: 0.8594\n",
      "\n",
      "Epoch 00098: val_accuracy did not improve from 0.90625\n",
      "Epoch 99/100\n",
      "15/15 [==============================] - 18s 1s/step - loss: 0.0162 - accuracy: 0.9979 - val_loss: 0.9562 - val_accuracy: 0.8906\n",
      "\n",
      "Epoch 00099: val_accuracy did not improve from 0.90625\n",
      "Epoch 100/100\n",
      "15/15 [==============================] - 18s 1s/step - loss: 0.0070 - accuracy: 0.9979 - val_loss: 2.7886 - val_accuracy: 0.7500\n",
      "\n",
      "Epoch 00100: val_accuracy did not improve from 0.90625\n"
     ]
    }
   ],
   "source": [
    "# %%time\n",
    "model_history = model.fit_generator(generator=train_generator, \n",
    "                                    steps_per_epoch=15, \n",
    "                                    epochs=100, \n",
    "                                    verbose=1, \n",
    "                                    validation_data= validation_generator, \n",
    "                                    validation_steps=2, \n",
    "                                    class_weight=None, \n",
    "                                    max_queue_size=10, \n",
    "                                    workers=1, \n",
    "                                    use_multiprocessing=False,\n",
    "                                    shuffle=True, \n",
    "                                    initial_epoch=0,\n",
    "                                    callbacks=[checkpoint])"
   ]
  },
  {
   "cell_type": "code",
   "execution_count": 28,
   "metadata": {
    "colab": {
     "base_uri": "https://localhost:8080/",
     "height": 418
    },
    "id": "_mWcqaeiiGTf",
    "outputId": "0e2d66a7-560c-4b6b-e456-6ace0ddb5a27"
   },
   "outputs": [
    {
     "name": "stdout",
     "output_type": "stream",
     "text": [
      "len(model_history.history.keys()) \n",
      " 4 \n",
      "\n",
      "dict_keys(['loss', 'accuracy', 'val_loss', 'val_accuracy'])\n"
     ]
    },
    {
     "data": {
      "image/png": "[encoded data removed]",
      "text/plain": [
       "<Figure size 1080x1224 with 2 Axes>"
      ]
     },
     "metadata": {
      "needs_background": "light"
     },
     "output_type": "display_data"
    }
   ],
   "source": [
    "# list all data in history\n",
    "print('len(model_history.history.keys()) \\n', len(model_history.history.keys()),'\\n')\n",
    "print(model_history.history.keys())\n",
    "\n",
    "\n",
    "model_history_df = pd.DataFrame(model_history.history)\n",
    "model_history_df\n",
    "\n",
    "\n",
    "model_history_df.columns\n",
    "\n",
    "\n",
    "plt.figure(figsize=(15,17))\n",
    "# columns = ['loss', 'accuracy', 'mse', 'auc', 'true_positives', 'true_negatives',\n",
    "#            'false_positives', 'false_negatives']\n",
    "columns = ['loss', 'accuracy']\n",
    "# columns = ['loss', 'acc']\n",
    "for i,col in enumerate(columns):\n",
    "    \n",
    "    plt.subplot(3, 3, i+1)\n",
    "    \n",
    "    plt.plot(model_history_df[col])\n",
    "    plt.plot(model_history_df['val_'+col], color='red')\n",
    "    plt.title('model '+col)\n",
    "    plt.ylabel(col)\n",
    "    plt.xlabel('epoch')\n",
    "    plt.legend(['train', 'val'])\n",
    "plt.savefig(\"plot_01_1_4classes_balanced_second_app.png\")\n",
    "# plt.savefig(\"../Figures/plot_01_1_4classes.png\")"
   ]
  },
  {
   "cell_type": "markdown",
   "metadata": {
    "id": "QCsDT7tDyuGR"
   },
   "source": [
    "Predict using saved model"
   ]
  },
  {
   "cell_type": "code",
   "execution_count": 53,
   "metadata": {
    "id": "B5U6RXGb-8y4"
   },
   "outputs": [],
   "source": [
    "path_1 = '/content/model_epoch_52_loss_0.06_acc_0.98_val_acc_0.91_.h5'\n",
    "# /content/X_ray_data/MyDrive/X-ray_data/model_epoch_14_loss_0.46_acc_0.54_val_acc_0.64_.h5\n",
    "model = keras.models.load_model(path_1)\n",
    "\n",
    "path_data = '/content/X_ray_data/MyDrive/X-ray_data/Data_augmented_4_classes_train_test_val'"
   ]
  },
  {
   "cell_type": "code",
   "execution_count": 54,
   "metadata": {
    "colab": {
     "base_uri": "https://localhost:8080/"
    },
    "id": "gCs7VMcIiGWj",
    "outputId": "7f9bb0a4-02a6-4dcf-db26-8a40a0b76638"
   },
   "outputs": [
    {
     "name": "stdout",
     "output_type": "stream",
     "text": [
      "Found 529 images belonging to 4 classes.\n",
      "17/17 [==============================] - 15s 881ms/step - loss: 0.6542 - accuracy: 0.8469\n"
     ]
    },
    {
     "data": {
      "text/plain": [
       "[0.6542003750801086, 0.8468809127807617]"
      ]
     },
     "execution_count": 54,
     "metadata": {},
     "output_type": "execute_result"
    }
   ],
   "source": [
    "# DoubleCheck_datagen = image.ImageDataGenerator(\n",
    "#                 featurewise_center=False, samplewise_center=False,\n",
    "#                 featurewise_std_normalization=False, samplewise_std_normalization=False,\n",
    "#                 zca_whitening=False, zca_epsilon=1e-06, rotation_range=0, width_shift_range=0.0,\n",
    "#                 height_shift_range=0.0, brightness_range=None, shear_range=0.2, zoom_range=0.2,\n",
    "#                 channel_shift_range=0.0, fill_mode='nearest', cval=0.0,\n",
    "#                 horizontal_flip=True, vertical_flip=False, rescale=1./255,\n",
    "#                 preprocessing_function=None, data_format=None, validation_split=0.0, dtype=None)\n",
    "\n",
    "DoubleCheck_datagen = image.ImageDataGenerator(rescale=1./255)\n",
    "DoubleCheck_generator = DoubleCheck_datagen.flow_from_directory(\n",
    "                    directory=path_data+'/Test/',\n",
    "                    # directory='../Dataset_4_classe_second_approach/Train/',\n",
    "#                     directory='../Codes/Models/Test_Data_Set_Sec_app/',\n",
    "                    target_size=(224,224),\n",
    "                    color_mode=\"rgb\",\n",
    "                    classes=None,\n",
    "                    class_mode=\"categorical\",\n",
    "                    batch_size=32,\n",
    "                    shuffle=True,\n",
    "                    seed=1234,\n",
    "                    save_to_dir=None,\n",
    "                    save_prefix=\"\",\n",
    "                    save_format=\"png\",\n",
    "                    follow_links=False,\n",
    "                    subset=None,\n",
    "                    interpolation=\"nearest\")\n",
    "\n",
    "\n",
    "model.evaluate(DoubleCheck_generator)"
   ]
  }
 ],
 "metadata": {
  "accelerator": "GPU",
  "colab": {
   "machine_shape": "hm",
   "name": "4Class_CNN_Xray.ipynb",
   "provenance": []
  },
  "kernelspec": {
   "display_name": "Python 3",
   "language": "python",
   "name": "python3"
  },
  "language_info": {
   "codemirror_mode": {
    "name": "ipython",
    "version": 3
   },
   "file_extension": ".py",
   "mimetype": "text/x-python",
   "name": "python",
   "nbconvert_exporter": "python",
   "pygments_lexer": "ipython3",
   "version": "3.7.0"
  }
 },
 "nbformat": 4,
 "nbformat_minor": 1
}
