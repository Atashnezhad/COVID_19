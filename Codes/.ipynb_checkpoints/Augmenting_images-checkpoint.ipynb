{
 "cells": [
  {
   "cell_type": "markdown",
   "metadata": {},
   "source": [
    "### Import libraries"
   ]
  },
  {
   "cell_type": "code",
   "execution_count": 7,
   "metadata": {},
   "outputs": [],
   "source": [
    "import pandas as pd\n",
    "import os\n",
    "import shutil\n",
    "import sys\n",
    "import warnings\n",
    "warnings.filterwarnings('ignore')\n",
    "from collections import Counter\n",
    "import random\n",
    "\n",
    "import numpy as np\n",
    "import matplotlib.pyplot as plt\n",
    "# import tensorflow as tf\n",
    "from tensorflow import keras\n",
    "import tensorflow\n",
    "\n",
    "from tensorflow.keras.callbacks import ModelCheckpoint\n",
    "from tensorflow.keras.layers import *\n",
    "from tensorflow.keras.models import *\n",
    "from tensorflow.keras.preprocessing import image\n",
    "from tensorflow.keras.preprocessing.image import ImageDataGenerator, load_img, img_to_array"
   ]
  },
  {
   "cell_type": "markdown",
   "metadata": {},
   "source": [
    "### Check out the directories"
   ]
  },
  {
   "cell_type": "code",
   "execution_count": 8,
   "metadata": {},
   "outputs": [],
   "source": [
    "# inserting the parent directory into current path\n",
    "sys.path.insert(1, '../COVID_19/')"
   ]
  },
  {
   "cell_type": "markdown",
   "metadata": {},
   "source": [
    "### Checking out the files and numbers."
   ]
  },
  {
   "cell_type": "code",
   "execution_count": 39,
   "metadata": {},
   "outputs": [
    {
     "name": "stdout",
     "output_type": "stream",
     "text": [
      "NORMAL_count =  196\n",
      "Covid_count =  196\n"
     ]
    }
   ],
   "source": [
    "NORMAL_dir = '../All_data/NORMAL/'\n",
    "NORMAL_img_list = os.listdir(NORMAL_dir)\n",
    "NORMAL_count = len(NORMAL_img_list)\n",
    "print('NORMAL_count = ', NORMAL_count)\n",
    "\n",
    "Covid_dir = '../All_data/COVID/'\n",
    "Covid_img_list = os.listdir(Covid_dir)\n",
    "Covid_count = len(Covid_img_list)\n",
    "print('Covid_count = ', Covid_count)"
   ]
  },
  {
   "cell_type": "markdown",
   "metadata": {},
   "source": [
    "Number of Normal and Covid cases are balanced. I will increase the number of two other classes.\n",
    "\n",
    "Make a balancing data generator."
   ]
  },
  {
   "cell_type": "code",
   "execution_count": 30,
   "metadata": {},
   "outputs": [],
   "source": [
    "Augment_data_gen = image.ImageDataGenerator(\n",
    "                    rotation_range=45, \n",
    "                    width_shift_range=0.0,\n",
    "                    height_shift_range=0.0,\n",
    "                    shear_range=0.2, \n",
    "                    zoom_range=0.5,\n",
    "                    horizontal_flip=True,\n",
    "                    fill_mode='nearest')"
   ]
  },
  {
   "cell_type": "markdown",
   "metadata": {},
   "source": [
    "pick random image from source directory and make new one.\n",
    "### Augment NORMAL images"
   ]
  },
  {
   "cell_type": "code",
   "execution_count": 31,
   "metadata": {},
   "outputs": [
    {
     "name": "stdout",
     "output_type": "stream",
     "text": [
      "generated_NORMAL_count =  948\n"
     ]
    }
   ],
   "source": [
    "NORMAL_Number_tobe_generated = 1000\n",
    "\n",
    "# if not os.path.exists( '../Dataset_4_classes_balanced/Train/Pneumocystis/'):\n",
    "#     os.makedirs('../Dataset_4_classes_balanced/Train/Pneumocystis/')\n",
    "    \n",
    "for i in range(0, NORMAL_Number_tobe_generated):\n",
    "    \n",
    "\n",
    "    # select a random img\n",
    "    rand_img_num = random.randint(0, NORMAL_count-1)\n",
    "    img_name = NORMAL_img_list[rand_img_num]\n",
    "\n",
    "    img_address = NORMAL_dir + img_name\n",
    "    img = load_img(img_address)\n",
    "\n",
    "    x = img_to_array(img)\n",
    "    x = x.reshape((1,) + x.shape)\n",
    "    \n",
    "\n",
    "    for batch in Augment_data_gen.\\\n",
    "                flow(x,batch_size=1,\n",
    "                save_to_dir='../Dataset_augmented/NORMAL/',\n",
    "                save_prefix='augmented_normal',\n",
    "                save_format='jpeg'):\n",
    "        break\n",
    "\n",
    "        \n",
    "        \n",
    "generated_NORMAL_dir = '../Dataset_augmented/NORMAL/'\n",
    "generated_NORMAL_img_list = os.listdir(generated_NORMAL_dir)\n",
    "generated_NORMAL_count = len(generated_NORMAL_img_list)\n",
    "print('generated_NORMAL_count = ', generated_NORMAL_count) "
   ]
  },
  {
   "cell_type": "markdown",
   "metadata": {},
   "source": [
    "pick random image from source directory and make new one.\n",
    "### Augment covid images"
   ]
  },
  {
   "cell_type": "code",
   "execution_count": 41,
   "metadata": {},
   "outputs": [
    {
     "name": "stdout",
     "output_type": "stream",
     "text": [
      "generated_Covid_count =  969\n"
     ]
    }
   ],
   "source": [
    "Covid_Number_tobe_generated = 1000\n",
    "\n",
    "# if not os.path.exists( '../Dataset_4_classes_balanced/Train/Pneumocystis/'):\n",
    "#     os.makedirs('../Dataset_4_classes_balanced/Train/Pneumocystis/')\n",
    "    \n",
    "for i in range(0, Covid_Number_tobe_generated):\n",
    "    \n",
    "\n",
    "    # select a random img\n",
    "    rand_img_num = random.randint(0, Covid_count-1)\n",
    "    img_name = Covid_img_list[rand_img_num]\n",
    "\n",
    "    img_address = Covid_dir + img_name\n",
    "    img = load_img(img_address)\n",
    "\n",
    "    x = img_to_array(img)\n",
    "    x = x.reshape((1,) + x.shape)\n",
    "    \n",
    "\n",
    "    for batch in Augment_data_gen.\\\n",
    "                flow(x,batch_size=1,\n",
    "                save_to_dir='../Dataset_augmented/COVID',\n",
    "                save_prefix='augmented_covid',\n",
    "                save_format='jpeg'):\n",
    "        break\n",
    "\n",
    "        \n",
    "        \n",
    "generated_Covid_dir = '../Dataset_augmented/COVID'\n",
    "generated_Covid_img_list = os.listdir(generated_Covid_dir)\n",
    "generated_Covid_count = len(generated_Covid_img_list)\n",
    "print('generated_Covid_count = ', generated_Covid_count) "
   ]
  },
  {
   "cell_type": "code",
   "execution_count": null,
   "metadata": {},
   "outputs": [],
   "source": [
    "Check out the number of images"
   ]
  },
  {
   "cell_type": "code",
   "execution_count": 42,
   "metadata": {},
   "outputs": [
    {
     "name": "stdout",
     "output_type": "stream",
     "text": [
      "NORMAL_count =  948\n",
      "Covid_count =  969\n"
     ]
    }
   ],
   "source": [
    "NORMAL_dir = '../Dataset_augmented/NORMAL/'\n",
    "NORMAL_img_list = os.listdir(NORMAL_dir)\n",
    "NORMAL_count = len(NORMAL_img_list)\n",
    "print('NORMAL_count = ', NORMAL_count)\n",
    "\n",
    "Covid_dir = '../Dataset_augmented/COVID'\n",
    "Covid_img_list = os.listdir(Covid_dir)\n",
    "Covid_count = len(Covid_img_list)\n",
    "print('Covid_count = ', Covid_count)"
   ]
  },
  {
   "cell_type": "markdown",
   "metadata": {},
   "source": [
    "Now we have almost 2000 images ready for next step."
   ]
  },
  {
   "cell_type": "code",
   "execution_count": null,
   "metadata": {},
   "outputs": [],
   "source": []
  }
 ],
 "metadata": {
  "kernelspec": {
   "display_name": "Python 3",
   "language": "python",
   "name": "python3"
  },
  "language_info": {
   "codemirror_mode": {
    "name": "ipython",
    "version": 3
   },
   "file_extension": ".py",
   "mimetype": "text/x-python",
   "name": "python",
   "nbconvert_exporter": "python",
   "pygments_lexer": "ipython3",
   "version": "3.6.4"
  }
 },
 "nbformat": 4,
 "nbformat_minor": 2
}
