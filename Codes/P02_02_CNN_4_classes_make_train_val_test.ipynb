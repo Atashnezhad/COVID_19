{
 "cells": [
  {
   "cell_type": "markdown",
   "metadata": {},
   "source": [
    "### Import libraries"
   ]
  },
  {
   "cell_type": "code",
   "execution_count": 8,
   "metadata": {},
   "outputs": [],
   "source": [
    "import pandas as pd\n",
    "import os\n",
    "import shutil\n",
    "import sys\n",
    "import warnings\n",
    "warnings.filterwarnings('ignore')\n",
    "import random\n",
    "\n",
    "import numpy as np\n",
    "import matplotlib.pyplot as plt\n",
    "# import tensorflow as tf\n",
    "from tensorflow import keras\n",
    "import tensorflow\n",
    "\n",
    "from tensorflow.keras.preprocessing.image import load_img, img_to_array\n",
    "\n",
    "from tensorflow.keras.layers import *\n",
    "from tensorflow.keras.models import *\n",
    "from tensorflow.keras.preprocessing import image\n",
    "from tensorflow.keras.preprocessing.image import ImageDataGenerator, load_img"
   ]
  },
  {
   "cell_type": "markdown",
   "metadata": {},
   "source": [
    "### Check out the directories"
   ]
  },
  {
   "cell_type": "code",
   "execution_count": 2,
   "metadata": {},
   "outputs": [],
   "source": [
    "# inserting the parent directory into current path\n",
    "sys.path.insert(1, '../Lung_Disease_Detection_Deeplearning/')"
   ]
  },
  {
   "cell_type": "code",
   "execution_count": 9,
   "metadata": {},
   "outputs": [
    {
     "data": {
      "text/plain": [
       "['COVID', 'NORMAL', 'Pneumocystis', 'Streptococcus']"
      ]
     },
     "execution_count": 9,
     "metadata": {},
     "output_type": "execute_result"
    }
   ],
   "source": [
    "# check out the augemented img folder 4 classes names\n",
    "dire =\"../Dataset_augmented_4_classes/\"\n",
    "class_names = os.listdir(dire)\n",
    "class_names"
   ]
  },
  {
   "cell_type": "code",
   "execution_count": 12,
   "metadata": {},
   "outputs": [],
   "source": [
    "# make a new dir with train, test and val sub-folders \n",
    "folder_name_list = [\"Train\", \"Test\", \"val\"]\n",
    "for folder_name in folder_name_list:\n",
    "    \n",
    "    if not os.path.exists( '../Data_augmented_4_classes_train_test_val/' + folder_name + \"/\"):\n",
    "        # make sub folders for 4 classes\n",
    "        for class_name in class_names:\n",
    "            os.makedirs('../Data_augmented_4_classes_train_test_val/' + folder_name + \"/\" + class_name + \"/\")"
   ]
  },
  {
   "cell_type": "code",
   "execution_count": 18,
   "metadata": {},
   "outputs": [
    {
     "name": "stdout",
     "output_type": "stream",
     "text": [
      "NORMAL_count =  949\n"
     ]
    }
   ],
   "source": [
    "# select N-random imgs from Dataset_augmented_4_classes Normal and paste into the\n",
    "# Data_augmented_4_classes_train_test_val Train/Normal folder\n",
    "\n",
    "\n",
    "NORMAL_dir = '../Dataset_augmented_4_classes/NORMAL/'\n",
    "NORMAL_img_list = os.listdir(NORMAL_dir)\n",
    "\n",
    "NORMAL_count = len(NORMAL_img_list)\n",
    "print('NORMAL_count = ', NORMAL_count)"
   ]
  },
  {
   "cell_type": "code",
   "execution_count": 52,
   "metadata": {},
   "outputs": [
    {
     "name": "stdout",
     "output_type": "stream",
     "text": [
      "Numb_Train_imgs 664\n",
      "Numb_val_imgs 142\n",
      "Numb_Test_imgs 142\n"
     ]
    }
   ],
   "source": [
    "# 70% Train 15% Test 15% val\n",
    "Numb_Train_imgs = int(NORMAL_count*0.7)\n",
    "print('Numb_Train_imgs', Numb_Train_imgs)\n",
    "Numb_val_imgs = int(NORMAL_count*0.15)\n",
    "print('Numb_val_imgs', Numb_val_imgs)\n",
    "Numb_Test_imgs = int(NORMAL_count*0.15)\n",
    "print('Numb_Test_imgs', Numb_Test_imgs)"
   ]
  },
  {
   "cell_type": "code",
   "execution_count": 56,
   "metadata": {},
   "outputs": [],
   "source": [
    "def copy_dist_imgs(case, subfolder_name, Num_of_imgs):\n",
    "\n",
    "    case_dir = '../Dataset_augmented_4_classes/' + case + \"/\"\n",
    "    case_img_list = os.listdir(case_dir)\n",
    "    case_count = len(case_img_list)\n",
    "\n",
    "    for i in range(Num_of_imgs):\n",
    "\n",
    "        # select a random case img from src dir\n",
    "        rand_img_num = random.randint(0, case_count-1)\n",
    "        img_name = case_img_list[rand_img_num]\n",
    "\n",
    "        # save the random img address and load it into the img\n",
    "        img_address_case = case_dir + img_name\n",
    "\n",
    "        # determine the src address and dist address\n",
    "        src_dir = img_address_case\n",
    "        dst_dir = \"../Data_augmented_4_classes_train_test_val/\" + subfolder_name  + \"/\" + case \n",
    "\n",
    "        # copy img from src to dist\n",
    "        shutil.copy(img_address_case, dst_dir)"
   ]
  },
  {
   "cell_type": "markdown",
   "metadata": {},
   "source": [
    "### Copy Normal imgs to Train/val/Test subfolders"
   ]
  },
  {
   "cell_type": "code",
   "execution_count": 57,
   "metadata": {},
   "outputs": [],
   "source": [
    "# choose the case name and subfolder and copy images\n",
    "case = \"NORMAL\"\n",
    "subfolder_name = \"Train\"\n",
    "number_to_copy = Numb_Train_imgs  \n",
    "\n",
    "copy_dist_imgs(case, subfolder_name, number_to_copy)\n",
    "\n",
    "# choose the case name and subfolder and copy images\n",
    "subfolder_name = \"Test\"\n",
    "number_to_copy = Numb_Test_imgs   \n",
    "\n",
    "copy_dist_imgs(case, subfolder_name, number_to_copy)\n",
    "\n",
    "# choose the case name and subfolder and copy images\n",
    "subfolder_name = \"val\"\n",
    "number_to_copy = Numb_val_imgs    \n",
    "\n",
    "copy_dist_imgs(case, subfolder_name, number_to_copy)"
   ]
  },
  {
   "cell_type": "markdown",
   "metadata": {},
   "source": [
    "### Copy COVID imgs to Train/val/Test subfolders"
   ]
  },
  {
   "cell_type": "code",
   "execution_count": 60,
   "metadata": {},
   "outputs": [],
   "source": [
    "# choose the case name and subfolder and copy images\n",
    "case = \"COVID\"\n",
    "subfolder_name = \"Train\"\n",
    "number_to_copy = Numb_Train_imgs  \n",
    "\n",
    "copy_dist_imgs(case, subfolder_name, number_to_copy)\n",
    "\n",
    "# choose the case name and subfolder and copy images\n",
    "subfolder_name = \"Test\"\n",
    "number_to_copy = Numb_Test_imgs   \n",
    "\n",
    "copy_dist_imgs(case, subfolder_name, number_to_copy)\n",
    "\n",
    "# choose the case name and subfolder and copy images\n",
    "subfolder_name = \"val\"\n",
    "number_to_copy = Numb_val_imgs    \n",
    "\n",
    "copy_dist_imgs(case, subfolder_name, number_to_copy)"
   ]
  },
  {
   "cell_type": "markdown",
   "metadata": {},
   "source": [
    "### Copy Pneumocystis imgs to Train/val/Test subfolders"
   ]
  },
  {
   "cell_type": "code",
   "execution_count": 61,
   "metadata": {},
   "outputs": [],
   "source": [
    "# choose the case name and subfolder and copy images\n",
    "case = \"Pneumocystis\"\n",
    "subfolder_name = \"Train\"\n",
    "number_to_copy = Numb_Train_imgs  \n",
    "\n",
    "copy_dist_imgs(case, subfolder_name, number_to_copy)\n",
    "\n",
    "# choose the case name and subfolder and copy images\n",
    "subfolder_name = \"Test\"\n",
    "number_to_copy = Numb_Test_imgs   \n",
    "\n",
    "copy_dist_imgs(case, subfolder_name, number_to_copy)\n",
    "\n",
    "# choose the case name and subfolder and copy images\n",
    "subfolder_name = \"val\"\n",
    "number_to_copy = Numb_val_imgs    \n",
    "\n",
    "copy_dist_imgs(case, subfolder_name, number_to_copy)"
   ]
  },
  {
   "cell_type": "markdown",
   "metadata": {},
   "source": [
    "### Copy Streptococcus imgs to Train/val/Test subfolders"
   ]
  },
  {
   "cell_type": "code",
   "execution_count": 62,
   "metadata": {},
   "outputs": [],
   "source": [
    "# choose the case name and subfolder and copy images\n",
    "case = \"Streptococcus\"\n",
    "subfolder_name = \"Train\"\n",
    "number_to_copy = Numb_Train_imgs  \n",
    "\n",
    "copy_dist_imgs(case, subfolder_name, number_to_copy)\n",
    "\n",
    "# choose the case name and subfolder and copy images\n",
    "subfolder_name = \"Test\"\n",
    "number_to_copy = Numb_Test_imgs   \n",
    "\n",
    "copy_dist_imgs(case, subfolder_name, number_to_copy)\n",
    "\n",
    "# choose the case name and subfolder and copy images\n",
    "subfolder_name = \"val\"\n",
    "number_to_copy = Numb_val_imgs    \n",
    "\n",
    "copy_dist_imgs(case, subfolder_name, number_to_copy)"
   ]
  },
  {
   "cell_type": "code",
   "execution_count": null,
   "metadata": {},
   "outputs": [],
   "source": []
  }
 ],
 "metadata": {
  "kernelspec": {
   "display_name": "Python 3",
   "language": "python",
   "name": "python3"
  },
  "language_info": {
   "codemirror_mode": {
    "name": "ipython",
    "version": 3
   },
   "file_extension": ".py",
   "mimetype": "text/x-python",
   "name": "python",
   "nbconvert_exporter": "python",
   "pygments_lexer": "ipython3",
   "version": "3.6.4"
  }
 },
 "nbformat": 4,
 "nbformat_minor": 2
}
